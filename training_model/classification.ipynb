{
 "cells": [
  {
   "cell_type": "code",
   "execution_count": 89,
   "metadata": {},
   "outputs": [],
   "source": [
    "import numpy as np\n",
    "from keras.applications import VGG16\n",
    "from keras.models import Model\n",
    "from keras.layers import Dense, GlobalAveragePooling2D, Dropout\n",
    "from keras import backend as K\n",
    "from keras.preprocessing import image\n",
    "from keras.preprocessing.image import ImageDataGenerator\n",
    "from keras.optimizers import RMSprop\n",
    "from keras.callbacks import ModelCheckpoint\n",
    "import matplotlib.pyplot as plt\n",
    "import cv2\n",
    "from PIL import Image\n",
    "%matplotlib inline"
   ]
  },
  {
   "cell_type": "code",
   "execution_count": 90,
   "metadata": {},
   "outputs": [],
   "source": [
    "def create_model():\n",
    "    vgg_conv = VGG16(weights='imagenet', include_top=False, input_shape=(105, 105, 3))\n",
    "    x = vgg_conv.output\n",
    "    x = GlobalAveragePooling2D()(x)\n",
    "    x = Dense(512, activation='relu')(x)\n",
    "    x = Dropout(0.5)(x)\n",
    "    x = Dense(6, activation='softmax')(x)\n",
    "    \n",
    "    for layer in vgg_conv.layers:\n",
    "        layer.trainable=False\n",
    "    \n",
    "    model = Model(inputs=vgg_conv.input, outputs=x)\n",
    "    \n",
    "    return model"
   ]
  },
  {
   "cell_type": "code",
   "execution_count": 91,
   "metadata": {},
   "outputs": [],
   "source": [
    "model = create_model()"
   ]
  },
  {
   "cell_type": "code",
   "execution_count": 92,
   "metadata": {},
   "outputs": [],
   "source": [
    "#rmsprop = RMSprop(lr=0.0001)\n",
    "model.compile(optimizer='rmsprop',loss='categorical_crossentropy', metrics=['accuracy'])"
   ]
  },
  {
   "cell_type": "code",
   "execution_count": 93,
   "metadata": {},
   "outputs": [],
   "source": [
    "train_datagen = ImageDataGenerator(\n",
    "    rescale=1./255,\n",
    "    rotation_range=20,\n",
    "    channel_shift_range=4,\n",
    "    width_shift_range=0.1,\n",
    "    height_shift_range=0.1,\n",
    "    shear_range=0.2)\n",
    "\n",
    "validation_datagen = ImageDataGenerator(\n",
    "    rescale=1./255,\n",
    "    rotation_range=20,\n",
    "    width_shift_range=0.1,\n",
    "    height_shift_range=0.1\n",
    ")"
   ]
  },
  {
   "cell_type": "code",
   "execution_count": 94,
   "metadata": {},
   "outputs": [],
   "source": [
    "train_batchsize = 24\n",
    "test_batchsize = 6"
   ]
  },
  {
   "cell_type": "code",
   "execution_count": 95,
   "metadata": {},
   "outputs": [
    {
     "name": "stdout",
     "output_type": "stream",
     "text": [
      "Found 240 images belonging to 6 classes.\n"
     ]
    }
   ],
   "source": [
    "train_generator = train_datagen.flow_from_directory(\n",
    "        './training_data',\n",
    "        target_size=(105, 105),\n",
    "        batch_size=train_batchsize,\n",
    "        color_mode='rgb',\n",
    "        class_mode='categorical')"
   ]
  },
  {
   "cell_type": "code",
   "execution_count": 96,
   "metadata": {},
   "outputs": [
    {
     "name": "stdout",
     "output_type": "stream",
     "text": [
      "Found 60 images belonging to 6 classes.\n"
     ]
    }
   ],
   "source": [
    "validation_generator = validation_datagen.flow_from_directory(\n",
    "        './testing_data',\n",
    "        target_size=(105, 105),\n",
    "        batch_size=test_batchsize,\n",
    "        class_mode='categorical',\n",
    "        color_mode='rgb')"
   ]
  },
  {
   "cell_type": "code",
   "execution_count": 97,
   "metadata": {},
   "outputs": [
    {
     "name": "stdout",
     "output_type": "stream",
     "text": [
      "Epoch 1/50\n",
      "10/10 [==============================] - 16s 2s/step - loss: 1.5936 - acc: 0.4125 - val_loss: 1.0629 - val_acc: 0.8000\n",
      "Epoch 2/50\n",
      "10/10 [==============================] - 14s 1s/step - loss: 1.0199 - acc: 0.6875 - val_loss: 0.7522 - val_acc: 0.8167\n",
      "Epoch 3/50\n",
      "10/10 [==============================] - 15s 1s/step - loss: 0.8000 - acc: 0.7250 - val_loss: 0.6910 - val_acc: 0.8500\n",
      "Epoch 4/50\n",
      "10/10 [==============================] - 15s 1s/step - loss: 0.6258 - acc: 0.7875 - val_loss: 0.6284 - val_acc: 0.8000\n",
      "Epoch 5/50\n",
      "10/10 [==============================] - 14s 1s/step - loss: 0.5815 - acc: 0.8292 - val_loss: 0.5409 - val_acc: 0.8333\n",
      "Epoch 6/50\n",
      "10/10 [==============================] - 15s 1s/step - loss: 0.5332 - acc: 0.8250 - val_loss: 0.5323 - val_acc: 0.8000\n",
      "Epoch 7/50\n",
      "10/10 [==============================] - 14s 1s/step - loss: 0.4768 - acc: 0.8625 - val_loss: 0.6168 - val_acc: 0.7500\n",
      "Epoch 8/50\n",
      "10/10 [==============================] - 15s 1s/step - loss: 0.4315 - acc: 0.8708 - val_loss: 0.6179 - val_acc: 0.8333\n",
      "Epoch 9/50\n",
      "10/10 [==============================] - 15s 1s/step - loss: 0.3444 - acc: 0.9125 - val_loss: 0.4861 - val_acc: 0.8167\n",
      "Epoch 10/50\n",
      "10/10 [==============================] - 15s 1s/step - loss: 0.3264 - acc: 0.9083 - val_loss: 0.4410 - val_acc: 0.8500\n",
      "Epoch 11/50\n",
      "10/10 [==============================] - 15s 1s/step - loss: 0.2779 - acc: 0.9167 - val_loss: 0.4697 - val_acc: 0.8333\n",
      "Epoch 12/50\n",
      "10/10 [==============================] - 15s 1s/step - loss: 0.2727 - acc: 0.9083 - val_loss: 0.5091 - val_acc: 0.8500\n",
      "Epoch 13/50\n",
      "10/10 [==============================] - 14s 1s/step - loss: 0.2625 - acc: 0.9125 - val_loss: 0.4678 - val_acc: 0.8333\n",
      "Epoch 14/50\n",
      "10/10 [==============================] - 15s 1s/step - loss: 0.2528 - acc: 0.9125 - val_loss: 0.4979 - val_acc: 0.8333\n",
      "Epoch 15/50\n",
      "10/10 [==============================] - 15s 1s/step - loss: 0.2177 - acc: 0.9542 - val_loss: 0.3936 - val_acc: 0.8833\n",
      "Epoch 16/50\n",
      "10/10 [==============================] - 15s 1s/step - loss: 0.1786 - acc: 0.9583 - val_loss: 0.4428 - val_acc: 0.8667\n",
      "Epoch 17/50\n",
      "10/10 [==============================] - 15s 1s/step - loss: 0.2352 - acc: 0.9167 - val_loss: 0.4639 - val_acc: 0.8667\n",
      "Epoch 18/50\n",
      "10/10 [==============================] - 15s 1s/step - loss: 0.1768 - acc: 0.9375 - val_loss: 0.4188 - val_acc: 0.8667\n",
      "Epoch 19/50\n",
      "10/10 [==============================] - 15s 1s/step - loss: 0.1678 - acc: 0.9375 - val_loss: 0.4525 - val_acc: 0.8167\n",
      "Epoch 20/50\n",
      "10/10 [==============================] - 15s 1s/step - loss: 0.1602 - acc: 0.9417 - val_loss: 0.4893 - val_acc: 0.8333\n",
      "Epoch 21/50\n",
      "10/10 [==============================] - 15s 1s/step - loss: 0.1484 - acc: 0.9500 - val_loss: 0.5132 - val_acc: 0.8333\n",
      "Epoch 22/50\n",
      "10/10 [==============================] - 15s 1s/step - loss: 0.1725 - acc: 0.9333 - val_loss: 0.3919 - val_acc: 0.9000\n",
      "Epoch 23/50\n",
      "10/10 [==============================] - 15s 1s/step - loss: 0.1118 - acc: 0.9625 - val_loss: 0.4613 - val_acc: 0.8833\n",
      "Epoch 24/50\n",
      "10/10 [==============================] - 15s 1s/step - loss: 0.1190 - acc: 0.9625 - val_loss: 0.3932 - val_acc: 0.8833\n",
      "Epoch 25/50\n",
      "10/10 [==============================] - 15s 1s/step - loss: 0.1228 - acc: 0.9583 - val_loss: 0.4235 - val_acc: 0.8833\n",
      "Epoch 26/50\n",
      "10/10 [==============================] - 14s 1s/step - loss: 0.0962 - acc: 0.9708 - val_loss: 0.4186 - val_acc: 0.8667\n",
      "Epoch 27/50\n",
      "10/10 [==============================] - 15s 1s/step - loss: 0.0940 - acc: 0.9708 - val_loss: 0.4293 - val_acc: 0.8667\n",
      "Epoch 28/50\n",
      "10/10 [==============================] - 15s 1s/step - loss: 0.1306 - acc: 0.9542 - val_loss: 0.4435 - val_acc: 0.8833\n",
      "Epoch 29/50\n",
      "10/10 [==============================] - 15s 1s/step - loss: 0.0873 - acc: 0.9750 - val_loss: 0.4565 - val_acc: 0.8500\n",
      "Epoch 30/50\n",
      "10/10 [==============================] - 15s 1s/step - loss: 0.0937 - acc: 0.9750 - val_loss: 0.4192 - val_acc: 0.9000\n",
      "Epoch 31/50\n",
      "10/10 [==============================] - 15s 1s/step - loss: 0.1010 - acc: 0.9625 - val_loss: 0.4301 - val_acc: 0.8667\n",
      "Epoch 32/50\n",
      "10/10 [==============================] - 15s 1s/step - loss: 0.0801 - acc: 0.9667 - val_loss: 0.3856 - val_acc: 0.9167\n",
      "Epoch 33/50\n",
      "10/10 [==============================] - 15s 1s/step - loss: 0.0763 - acc: 0.9833 - val_loss: 0.4469 - val_acc: 0.8667\n",
      "Epoch 34/50\n",
      "10/10 [==============================] - 15s 1s/step - loss: 0.0828 - acc: 0.9792 - val_loss: 0.4278 - val_acc: 0.9000\n",
      "Epoch 35/50\n",
      "10/10 [==============================] - 15s 1s/step - loss: 0.0680 - acc: 0.9833 - val_loss: 0.4022 - val_acc: 0.8833\n",
      "Epoch 36/50\n",
      "10/10 [==============================] - 15s 1s/step - loss: 0.0724 - acc: 0.9750 - val_loss: 0.5131 - val_acc: 0.8500\n",
      "Epoch 37/50\n",
      "10/10 [==============================] - 14s 1s/step - loss: 0.0671 - acc: 0.9708 - val_loss: 0.4212 - val_acc: 0.9000\n",
      "Epoch 38/50\n",
      "10/10 [==============================] - 15s 1s/step - loss: 0.1050 - acc: 0.9625 - val_loss: 0.4661 - val_acc: 0.9167\n",
      "Epoch 39/50\n",
      "10/10 [==============================] - 14s 1s/step - loss: 0.0722 - acc: 0.9708 - val_loss: 0.4871 - val_acc: 0.8500\n",
      "Epoch 40/50\n",
      "10/10 [==============================] - 14s 1s/step - loss: 0.0528 - acc: 0.9875 - val_loss: 0.4154 - val_acc: 0.9167\n",
      "Epoch 41/50\n",
      "10/10 [==============================] - 14s 1s/step - loss: 0.0560 - acc: 0.9792 - val_loss: 0.4666 - val_acc: 0.8667\n",
      "Epoch 42/50\n",
      "10/10 [==============================] - 15s 1s/step - loss: 0.0456 - acc: 0.9917 - val_loss: 0.4737 - val_acc: 0.8833\n",
      "Epoch 43/50\n",
      "10/10 [==============================] - 15s 1s/step - loss: 0.0546 - acc: 0.9875 - val_loss: 0.4250 - val_acc: 0.9167\n",
      "Epoch 44/50\n",
      "10/10 [==============================] - 15s 1s/step - loss: 0.0687 - acc: 0.9833 - val_loss: 0.4349 - val_acc: 0.9000\n",
      "Epoch 45/50\n",
      "10/10 [==============================] - 15s 1s/step - loss: 0.0606 - acc: 0.9875 - val_loss: 0.5715 - val_acc: 0.8333\n",
      "Epoch 46/50\n",
      "10/10 [==============================] - 15s 1s/step - loss: 0.0596 - acc: 0.9750 - val_loss: 0.4450 - val_acc: 0.9000\n",
      "Epoch 47/50\n",
      "10/10 [==============================] - 15s 1s/step - loss: 0.0464 - acc: 0.9917 - val_loss: 0.4563 - val_acc: 0.9167\n",
      "Epoch 48/50\n",
      "10/10 [==============================] - 15s 1s/step - loss: 0.0490 - acc: 0.9917 - val_loss: 0.4137 - val_acc: 0.8833\n",
      "Epoch 49/50\n",
      "10/10 [==============================] - 15s 1s/step - loss: 0.0382 - acc: 0.9875 - val_loss: 0.6513 - val_acc: 0.8667\n",
      "Epoch 50/50\n",
      "10/10 [==============================] - 15s 1s/step - loss: 0.0446 - acc: 0.9875 - val_loss: 0.5073 - val_acc: 0.8500\n"
     ]
    }
   ],
   "source": [
    "checkpointer = ModelCheckpoint('cnn_model_3.hdf5',save_best_only=True)\n",
    "history = model.fit_generator(\n",
    "      train_generator,\n",
    "      steps_per_epoch=train_generator.samples/train_generator.batch_size ,\n",
    "      epochs=50,\n",
    "      validation_data=validation_generator,\n",
    "      validation_steps=validation_generator.samples/validation_generator.batch_size,\n",
    "      verbose=1,callbacks=[checkpointer])"
   ]
  },
  {
   "cell_type": "code",
   "execution_count": 98,
   "metadata": {},
   "outputs": [],
   "source": [
    "model.load_weights('cnn_model_3.hdf5')"
   ]
  },
  {
   "cell_type": "code",
   "execution_count": 69,
   "metadata": {},
   "outputs": [],
   "source": [
    "temp = cv2.imread('BankOfAmerica_header.png')\n",
    "temp = cv2.cvtColor(temp, cv2.COLOR_BGR2RGB)"
   ]
  },
  {
   "cell_type": "code",
   "execution_count": 71,
   "metadata": {},
   "outputs": [],
   "source": [
    "add = np.full((35,140,3),255,dtype=float)\n",
    "crop = temp[130:200,480:620,:]\n",
    "new = np.concatenate((add,crop,add))"
   ]
  },
  {
   "cell_type": "code",
   "execution_count": 74,
   "metadata": {},
   "outputs": [],
   "source": [
    "new = cv2.resize(new, (105,105))\n",
    "new = new/255"
   ]
  },
  {
   "cell_type": "code",
   "execution_count": 77,
   "metadata": {},
   "outputs": [],
   "source": [
    "new = new.reshape((1,)+new.shape)"
   ]
  },
  {
   "cell_type": "code",
   "execution_count": 78,
   "metadata": {},
   "outputs": [],
   "source": [
    "result = model.predict([new])"
   ]
  },
  {
   "cell_type": "code",
   "execution_count": 80,
   "metadata": {},
   "outputs": [
    {
     "data": {
      "text/plain": [
       "{'boa': 0,\n",
       " 'capitalone': 1,\n",
       " 'chase': 2,\n",
       " 'citigroup': 3,\n",
       " 'other': 4,\n",
       " 'wellsfargo': 5}"
      ]
     },
     "execution_count": 80,
     "metadata": {},
     "output_type": "execute_result"
    }
   ],
   "source": [
    "train_generator.class_indices"
   ]
  },
  {
   "cell_type": "code",
   "execution_count": 81,
   "metadata": {},
   "outputs": [
    {
     "data": {
      "text/plain": [
       "array([9.9954033e-01, 1.5719052e-04, 3.3157190e-05, 3.7286100e-05,\n",
       "       1.6437723e-04, 6.7666791e-05], dtype=float32)"
      ]
     },
     "execution_count": 81,
     "metadata": {},
     "output_type": "execute_result"
    }
   ],
   "source": []
  },
  {
   "cell_type": "code",
   "execution_count": 79,
   "metadata": {},
   "outputs": [
    {
     "data": {
      "text/plain": [
       "array([[9.9954033e-01, 1.5719052e-04, 3.3157190e-05, 3.7286100e-05,\n",
       "        1.6437723e-04, 6.7666791e-05]], dtype=float32)"
      ]
     },
     "execution_count": 79,
     "metadata": {},
     "output_type": "execute_result"
    }
   ],
   "source": [
    "result"
   ]
  },
  {
   "cell_type": "code",
   "execution_count": null,
   "metadata": {},
   "outputs": [],
   "source": []
  }
 ],
 "metadata": {
  "kernelspec": {
   "display_name": "Python 3 (anaconda3 5.2.0)",
   "language": "python",
   "name": "anaconda3"
  },
  "language_info": {
   "codemirror_mode": {
    "name": "ipython",
    "version": 3
   },
   "file_extension": ".py",
   "mimetype": "text/x-python",
   "name": "python",
   "nbconvert_exporter": "python",
   "pygments_lexer": "ipython3",
   "version": "3.6.5"
  }
 },
 "nbformat": 4,
 "nbformat_minor": 2
}

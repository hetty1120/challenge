{
 "cells": [
  {
   "cell_type": "code",
   "execution_count": 48,
   "metadata": {},
   "outputs": [],
   "source": [
    "import numpy as np\n",
    "from keras.applications import VGG16\n",
    "from keras.models import Model\n",
    "from keras.layers import Dense, GlobalAveragePooling2D, Dropout, Flatten\n",
    "from keras import backend as K\n",
    "from keras.preprocessing import image\n",
    "from keras.preprocessing.image import ImageDataGenerator\n",
    "from keras.optimizers import RMSprop\n",
    "from keras.callbacks import ModelCheckpoint\n",
    "import matplotlib.pyplot as plt\n",
    "import cv2\n",
    "from PIL import Image\n",
    "%matplotlib inline"
   ]
  },
  {
   "cell_type": "code",
   "execution_count": 49,
   "metadata": {},
   "outputs": [],
   "source": [
    "def create_model():\n",
    "    vgg_conv = VGG16(weights='imagenet', include_top=False, input_shape=(105, 105, 3))\n",
    "    x = vgg_conv.output\n",
    "    #x = GlobalAveragePooling2D()(x)\n",
    "    x = Flatten()(x)\n",
    "    x = Dense(1024, activation='relu')(x)\n",
    "    x = Dropout(0.5)(x)\n",
    "    x = Dense(6, activation='softmax')(x)\n",
    "    \n",
    "    for layer in vgg_conv.layers:\n",
    "        layer.trainable=False\n",
    "    \n",
    "    model = Model(inputs=vgg_conv.input, outputs=x)\n",
    "    \n",
    "    return model"
   ]
  },
  {
   "cell_type": "code",
   "execution_count": 50,
   "metadata": {},
   "outputs": [],
   "source": [
    "model = create_model()"
   ]
  },
  {
   "cell_type": "code",
   "execution_count": 51,
   "metadata": {},
   "outputs": [],
   "source": [
    "#rmsprop = RMSprop(lr=0.0001)\n",
    "model.compile(optimizer='rmsprop',loss='categorical_crossentropy', metrics=['accuracy'])"
   ]
  },
  {
   "cell_type": "code",
   "execution_count": 52,
   "metadata": {},
   "outputs": [],
   "source": [
    "train_datagen = ImageDataGenerator(\n",
    "    rescale=1./255,\n",
    "    rotation_range=20,\n",
    "    channel_shift_range=4,\n",
    "    width_shift_range=0.1,\n",
    "    height_shift_range=0.1,\n",
    "    shear_range=0.2)\n",
    "\n",
    "validation_datagen = ImageDataGenerator(\n",
    "    rescale=1./255,\n",
    "    rotation_range=20,\n",
    "    width_shift_range=0.1,\n",
    "    height_shift_range=0.1\n",
    ")"
   ]
  },
  {
   "cell_type": "code",
   "execution_count": 53,
   "metadata": {},
   "outputs": [],
   "source": [
    "train_batchsize = 24\n",
    "test_batchsize = 6"
   ]
  },
  {
   "cell_type": "code",
   "execution_count": 54,
   "metadata": {},
   "outputs": [
    {
     "name": "stdout",
     "output_type": "stream",
     "text": [
      "Found 240 images belonging to 6 classes.\n"
     ]
    }
   ],
   "source": [
    "train_generator = train_datagen.flow_from_directory(\n",
    "        './training_data',\n",
    "        target_size=(105, 105),\n",
    "        batch_size=train_batchsize,\n",
    "        color_mode='rgb',\n",
    "        class_mode='categorical')"
   ]
  },
  {
   "cell_type": "code",
   "execution_count": 55,
   "metadata": {},
   "outputs": [
    {
     "name": "stdout",
     "output_type": "stream",
     "text": [
      "Found 60 images belonging to 6 classes.\n"
     ]
    }
   ],
   "source": [
    "validation_generator = validation_datagen.flow_from_directory(\n",
    "        './testing_data',\n",
    "        target_size=(105, 105),\n",
    "        batch_size=test_batchsize,\n",
    "        class_mode='categorical',\n",
    "        color_mode='rgb')"
   ]
  },
  {
   "cell_type": "code",
   "execution_count": 56,
   "metadata": {},
   "outputs": [
    {
     "name": "stdout",
     "output_type": "stream",
     "text": [
      "Epoch 1/40\n",
      "50/50 [==============================] - 26s 520ms/step - loss: 1.4293 - acc: 0.7542 - val_loss: 0.4753 - val_acc: 0.9167\n",
      "Epoch 2/40\n",
      "50/50 [==============================] - 25s 507ms/step - loss: 0.2375 - acc: 0.9258 - val_loss: 0.4884 - val_acc: 0.8833\n",
      "Epoch 3/40\n",
      "50/50 [==============================] - 25s 507ms/step - loss: 0.1575 - acc: 0.9575 - val_loss: 0.5290 - val_acc: 0.9000\n",
      "Epoch 4/40\n",
      "50/50 [==============================] - 25s 508ms/step - loss: 0.1228 - acc: 0.9575 - val_loss: 0.5420 - val_acc: 0.8667\n",
      "Epoch 5/40\n",
      "50/50 [==============================] - 25s 507ms/step - loss: 0.1088 - acc: 0.9667 - val_loss: 0.6074 - val_acc: 0.9000\n",
      "Epoch 6/40\n",
      "50/50 [==============================] - 25s 506ms/step - loss: 0.1136 - acc: 0.9750 - val_loss: 0.4570 - val_acc: 0.8833\n",
      "Epoch 7/40\n",
      "50/50 [==============================] - 25s 507ms/step - loss: 0.0574 - acc: 0.9858 - val_loss: 0.6440 - val_acc: 0.9000\n",
      "Epoch 8/40\n",
      "50/50 [==============================] - 25s 506ms/step - loss: 0.0586 - acc: 0.9783 - val_loss: 0.5205 - val_acc: 0.9333\n",
      "Epoch 9/40\n",
      "50/50 [==============================] - 25s 507ms/step - loss: 0.0360 - acc: 0.9842 - val_loss: 0.4661 - val_acc: 0.9333\n",
      "Epoch 10/40\n",
      "50/50 [==============================] - 25s 506ms/step - loss: 0.0246 - acc: 0.9917 - val_loss: 0.6708 - val_acc: 0.9333\n",
      "Epoch 11/40\n",
      "50/50 [==============================] - 25s 507ms/step - loss: 0.0711 - acc: 0.9825 - val_loss: 0.5849 - val_acc: 0.9500\n",
      "Epoch 12/40\n",
      "50/50 [==============================] - 25s 508ms/step - loss: 0.0706 - acc: 0.9825 - val_loss: 0.9225 - val_acc: 0.9000\n",
      "Epoch 13/40\n",
      "50/50 [==============================] - 25s 507ms/step - loss: 0.0131 - acc: 0.9967 - val_loss: 0.6333 - val_acc: 0.9500\n",
      "Epoch 14/40\n",
      "50/50 [==============================] - 25s 507ms/step - loss: 0.0346 - acc: 0.9900 - val_loss: 0.5931 - val_acc: 0.9000\n",
      "Epoch 15/40\n",
      "50/50 [==============================] - 25s 507ms/step - loss: 0.0699 - acc: 0.9850 - val_loss: 0.7139 - val_acc: 0.9333\n",
      "Epoch 16/40\n",
      "50/50 [==============================] - 25s 506ms/step - loss: 0.0402 - acc: 0.9917 - val_loss: 0.7190 - val_acc: 0.9000\n",
      "Epoch 17/40\n",
      "50/50 [==============================] - 25s 507ms/step - loss: 0.0413 - acc: 0.9908 - val_loss: 0.5158 - val_acc: 0.9500\n",
      "Epoch 18/40\n",
      "50/50 [==============================] - 25s 506ms/step - loss: 0.0119 - acc: 0.9983 - val_loss: 0.8676 - val_acc: 0.9167\n",
      "Epoch 19/40\n",
      "50/50 [==============================] - 26s 516ms/step - loss: 0.0137 - acc: 0.9967 - val_loss: 0.5745 - val_acc: 0.9167\n",
      "Epoch 20/40\n",
      "50/50 [==============================] - 25s 507ms/step - loss: 0.0316 - acc: 0.9950 - val_loss: 0.6064 - val_acc: 0.9500\n",
      "Epoch 21/40\n",
      "50/50 [==============================] - 25s 507ms/step - loss: 0.0152 - acc: 0.9967 - val_loss: 0.6270 - val_acc: 0.9333\n",
      "Epoch 22/40\n",
      "50/50 [==============================] - 25s 506ms/step - loss: 0.0060 - acc: 0.9967 - val_loss: 0.5157 - val_acc: 0.9167\n",
      "Epoch 23/40\n",
      "50/50 [==============================] - 25s 506ms/step - loss: 0.0211 - acc: 0.9950 - val_loss: 0.6755 - val_acc: 0.9167\n",
      "Epoch 24/40\n",
      "50/50 [==============================] - 25s 506ms/step - loss: 0.0332 - acc: 0.9892 - val_loss: 0.6428 - val_acc: 0.9333\n",
      "Epoch 25/40\n",
      "50/50 [==============================] - 25s 506ms/step - loss: 0.0142 - acc: 0.9958 - val_loss: 0.7569 - val_acc: 0.9333\n",
      "Epoch 26/40\n",
      "50/50 [==============================] - 25s 507ms/step - loss: 0.0186 - acc: 0.9967 - val_loss: 0.5719 - val_acc: 0.9500\n",
      "Epoch 27/40\n",
      "50/50 [==============================] - 25s 506ms/step - loss: 0.0196 - acc: 0.9950 - val_loss: 0.5372 - val_acc: 0.9500\n",
      "Epoch 28/40\n",
      "50/50 [==============================] - 25s 507ms/step - loss: 0.0227 - acc: 0.9958 - val_loss: 0.6429 - val_acc: 0.9333\n",
      "Epoch 29/40\n",
      "50/50 [==============================] - 25s 506ms/step - loss: 0.0104 - acc: 0.9975 - val_loss: 0.6263 - val_acc: 0.9500\n",
      "Epoch 30/40\n",
      "50/50 [==============================] - 26s 521ms/step - loss: 0.0230 - acc: 0.9925 - val_loss: 0.5574 - val_acc: 0.9500\n",
      "Epoch 31/40\n",
      "50/50 [==============================] - 26s 517ms/step - loss: 0.0176 - acc: 0.9958 - val_loss: 0.5501 - val_acc: 0.9667\n",
      "Epoch 32/40\n",
      "50/50 [==============================] - 25s 507ms/step - loss: 0.0132 - acc: 0.9958 - val_loss: 0.6294 - val_acc: 0.9500\n",
      "Epoch 33/40\n",
      "50/50 [==============================] - 25s 508ms/step - loss: 0.0289 - acc: 0.9950 - val_loss: 0.6812 - val_acc: 0.9500\n",
      "Epoch 34/40\n",
      "50/50 [==============================] - 25s 506ms/step - loss: 0.0147 - acc: 0.9967 - val_loss: 0.8529 - val_acc: 0.9000\n",
      "Epoch 35/40\n",
      "50/50 [==============================] - 25s 507ms/step - loss: 0.0108 - acc: 0.9975 - val_loss: 0.6117 - val_acc: 0.9333\n",
      "Epoch 36/40\n",
      "50/50 [==============================] - 25s 506ms/step - loss: 0.0019 - acc: 0.9992 - val_loss: 0.8994 - val_acc: 0.9333\n",
      "Epoch 37/40\n",
      "50/50 [==============================] - 25s 506ms/step - loss: 0.0135 - acc: 0.9992 - val_loss: 0.5385 - val_acc: 0.9667\n",
      "Epoch 38/40\n",
      "50/50 [==============================] - 25s 506ms/step - loss: 0.0096 - acc: 0.9958 - val_loss: 0.5511 - val_acc: 0.9667\n",
      "Epoch 39/40\n",
      "50/50 [==============================] - 25s 506ms/step - loss: 0.0032 - acc: 0.9983 - val_loss: 0.8666 - val_acc: 0.9167\n",
      "Epoch 40/40\n",
      "50/50 [==============================] - 25s 507ms/step - loss: 0.0243 - acc: 0.9958 - val_loss: 0.5832 - val_acc: 0.9500\n"
     ]
    }
   ],
   "source": [
    "checkpointer = ModelCheckpoint('logo_model_8.hdf5',save_best_only=True)\n",
    "history = model.fit_generator(\n",
    "      train_generator,\n",
    "      steps_per_epoch=train_generator.samples*5/train_generator.batch_size ,\n",
    "      epochs=40,\n",
    "      validation_data=validation_generator,\n",
    "      validation_steps=validation_generator.samples/validation_generator.batch_size,\n",
    "      verbose=1,callbacks=[checkpointer])"
   ]
  }
 ],
 "metadata": {
  "kernelspec": {
   "display_name": "Python 3 (anaconda3 5.2.0)",
   "language": "python",
   "name": "anaconda3"
  },
  "language_info": {
   "codemirror_mode": {
    "name": "ipython",
    "version": 3
   },
   "file_extension": ".py",
   "mimetype": "text/x-python",
   "name": "python",
   "nbconvert_exporter": "python",
   "pygments_lexer": "ipython3",
   "version": "3.6.5"
  }
 },
 "nbformat": 4,
 "nbformat_minor": 2
}
